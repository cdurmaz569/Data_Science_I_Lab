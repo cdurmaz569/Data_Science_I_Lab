{
 "cells": [
  {
   "cell_type": "markdown",
   "metadata": {},
   "source": [
    "### Lab 4\n",
    "#### Author: Ceyda Durmaz\n",
    "#### Date: 11/30/2020\n",
    "##### Link to GitHub repository: https://github.com/cdurmaz569/Data_Science_I_Lab/tree/master/Lab_4"
   ]
  },
  {
   "cell_type": "code",
   "execution_count": 1,
   "metadata": {},
   "outputs": [],
   "source": [
    "import pandas as pd\n",
    "import numpy as np\n",
    "import matplotlib.pyplot as plt\n",
    "import seaborn as sns"
   ]
  },
  {
   "cell_type": "markdown",
   "metadata": {},
   "source": [
    "### Problem 1"
   ]
  },
  {
   "cell_type": "code",
   "execution_count": 2,
   "metadata": {},
   "outputs": [
    {
     "name": "stdout",
     "output_type": "stream",
     "text": [
      "There are 6264 listings in the dataset.\n",
      "There are 6264 unique identifiers.\n"
     ]
    }
   ],
   "source": [
    "# Read in listings of Boston data\n",
    "listings = pd.read_csv(\"listings.csv\")\n",
    "\n",
    "# Get how many entries are in listings\n",
    "print(\"There are \" + str(listings.shape[0]) + \" listings in the dataset.\")\n",
    "\n",
    "# Get how many unique identifiers are in listings\n",
    "print(\"There are \" + str(listings.nunique()[0]) + \" unique identifiers.\")"
   ]
  },
  {
   "cell_type": "markdown",
   "metadata": {},
   "source": [
    "### Problem 2"
   ]
  },
  {
   "cell_type": "code",
   "execution_count": 3,
   "metadata": {},
   "outputs": [
    {
     "name": "stdout",
     "output_type": "stream",
     "text": [
      "There are 225880 entries in the reviews dataset.\n",
      "There are 5088 unique identifiers.\n"
     ]
    }
   ],
   "source": [
    "# Read in reviews of Boston data\n",
    "reviews = pd.read_csv(\"reviews.csv\")\n",
    "\n",
    "# Calculate how many entries are in listings\n",
    "print(\"There are \" + str(reviews.shape[0]) + \" entries in the reviews dataset.\")\n",
    "\n",
    "# Calculate how many unique identifiers are in listings\n",
    "print(\"There are \" + str(reviews.nunique()[0]) + \" unique identifiers.\")"
   ]
  },
  {
   "cell_type": "markdown",
   "metadata": {},
   "source": [
    "### Problem 3"
   ]
  },
  {
   "cell_type": "code",
   "execution_count": 4,
   "metadata": {},
   "outputs": [
    {
     "name": "stdout",
     "output_type": "stream",
     "text": [
      "After merging, there are 227056 rows.\n",
      "There are 6264 unique AirBnB ids.\n",
      "There were 1176 rows filled with NaN.\n"
     ]
    }
   ],
   "source": [
    "# Merge review and listings so all entries from listings are in df\n",
    "mergedAllListings = pd.merge(listings, reviews, \n",
    "                             left_on = \"id\", \n",
    "                             right_on = \"listing_id\", \n",
    "                             how = \"left\")\n",
    "\n",
    "# Get number of rows \n",
    "print(\"After merging, there are \" + str(mergedAllListings.shape[0]) + \" rows.\")\n",
    "\n",
    "# Get number of unique AirBnB ids\n",
    "print(\"There are \" + str(mergedAllListings.nunique()[\"id_x\"]) + \" unique AirBnB ids.\")\n",
    "\n",
    "# Get number of rows filled with NaNs\n",
    "print(\"There were \" + str(sum(mergedAllListings.listing_id.isnull())) + \" rows filled with NaN.\")"
   ]
  },
  {
   "cell_type": "markdown",
   "metadata": {},
   "source": [
    "### Problem 4"
   ]
  },
  {
   "cell_type": "code",
   "execution_count": 5,
   "metadata": {},
   "outputs": [
    {
     "name": "stdout",
     "output_type": "stream",
     "text": [
      "After merging, there are 225880 rows.\n",
      "There are 5088 unique AirBnB ids.\n"
     ]
    }
   ],
   "source": [
    "# Merge review and listings so all entries from reviews are in df\n",
    "mergedAllReviews = pd.merge(listings, reviews, \n",
    "                            left_on = \"id\", \n",
    "                            right_on = \"listing_id\", \n",
    "                            how = \"right\")\n",
    "\n",
    "# Get number of rows\n",
    "print(\"After merging, there are \" + str(mergedAllReviews.shape[0]) + \" rows.\")\n",
    "\n",
    "# Get number of unique AirBnB ids \n",
    "print(\"There are \" + str(mergedAllReviews.nunique()[\"listing_id\"]) + \" unique AirBnB ids.\")"
   ]
  },
  {
   "cell_type": "markdown",
   "metadata": {},
   "source": [
    "### Problem 5"
   ]
  },
  {
   "cell_type": "code",
   "execution_count": 6,
   "metadata": {},
   "outputs": [
    {
     "name": "stdout",
     "output_type": "stream",
     "text": [
      "There are 1448 unique AirBnBs hosted by a superhost.\n",
      "There are 757 superhosts in Boston.\n",
      "There are 70 superhosts without a review.\n",
      "The median number of reviews for a superhost is 41.0.\n"
     ]
    }
   ],
   "source": [
    "# Subset superhosts\n",
    "listingsSuper = listings[listings.host_is_superhost == \"t\"] \n",
    "\n",
    "# Get number of unique AirBnBs hosted by a superhost\n",
    "print(\"There are \" + str(listingsSuper.shape[0]) + \" unique AirBnBs hosted by a superhost.\")\n",
    "\n",
    "# Get number of superhosts \n",
    "print(\"There are \" + str(listingsSuper.nunique()[\"host_id\"]) + \" superhosts in Boston.\")\n",
    "\n",
    "# Get number of superhosts without reviews\n",
    "mergedSuperReviews = pd.merge(listingsSuper, \n",
    "                              reviews, \n",
    "                              left_on = \"id\", \n",
    "                              right_on = \"listing_id\",\n",
    "                              how = \"left\")\n",
    "print(\"There are \" + str(sum(mergedSuperReviews.listing_id.isnull())) + \" superhosts without a review.\")\n",
    "\n",
    "# Get median number of reviews that a superhost has in the 'reviews' df\n",
    "print(\"The median number of reviews for a superhost is \" + str(listingsSuper[\"number_of_reviews\"].median()) + \".\")"
   ]
  },
  {
   "cell_type": "markdown",
   "metadata": {},
   "source": [
    "### Problem 6"
   ]
  },
  {
   "cell_type": "code",
   "execution_count": 7,
   "metadata": {},
   "outputs": [
    {
     "data": {
      "image/png": "[encoded data removed]",
      "text/plain": [
       "<Figure size 216x216 with 1 Axes>"
      ]
     },
     "metadata": {},
     "output_type": "display_data"
    }
   ],
   "source": [
    "# Subset listings and remove rows where host_is_superhost classifier is NaN\n",
    "hostReviews = listings[[\"host_id\", \"host_is_superhost\", \"number_of_reviews\"]].dropna(subset = [\"host_is_superhost\"])\n",
    "\n",
    "# Rename entries in host_is_superhost column\n",
    "hostReviews[\"host_is_superhost\"] = hostReviews[\"host_is_superhost\"].replace({\"t\": \"Superhost\", \"f\": \"Non-Superhost\"})\n",
    "\n",
    "# Add 1 to number of reviews\n",
    "hostReviews[\"number_of_reviews\"] = hostReviews[\"number_of_reviews\"] + 1\n",
    "\n",
    "# Log number of reviews\n",
    "hostReviews[\"num_reviews_log\"] = np.log(hostReviews[\"number_of_reviews\"])\n",
    "\n",
    "# Plot boxplot\n",
    "sns.set_style(\"ticks\")\n",
    "grid = sns.FacetGrid(hostReviews)\n",
    "sns.boxplot(data = hostReviews, \n",
    "            x = \"host_is_superhost\", \n",
    "            y = \"num_reviews_log\")\n",
    "plt.title(\"Number of Reviews by Host Type\")\n",
    "plt.xlabel(\"Host Type\")\n",
    "plt.ylabel(\"Number of Reviews (log(counts+1))\")\n",
    "plt.tight_layout()"
   ]
  }
 ],
 "metadata": {
  "kernelspec": {
   "display_name": "Python 3",
   "language": "python",
   "name": "python3"
  },
  "language_info": {
   "codemirror_mode": {
    "name": "ipython",
    "version": 3
   },
   "file_extension": ".py",
   "mimetype": "text/x-python",
   "name": "python",
   "nbconvert_exporter": "python",
   "pygments_lexer": "ipython3",
   "version": "3.8.3"
  }
 },
 "nbformat": 4,
 "nbformat_minor": 4
}
